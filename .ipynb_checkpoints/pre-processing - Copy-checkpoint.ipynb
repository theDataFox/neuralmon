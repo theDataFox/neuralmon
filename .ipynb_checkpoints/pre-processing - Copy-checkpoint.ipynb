{
 "cells": [
  {
   "cell_type": "code",
   "execution_count": 91,
   "metadata": {
    "collapsed": true
   },
   "outputs": [],
   "source": [
    "import os\n",
    "import matplotlib.pyplot as plt\n",
    "import matplotlib.image as mpimg\n",
    "%matplotlib inline"
   ]
  },
  {
   "cell_type": "code",
   "execution_count": 120,
   "metadata": {},
   "outputs": [
    {
     "data": {
      "text/plain": [
       "'1.png'"
      ]
     },
     "execution_count": 120,
     "metadata": {},
     "output_type": "execute_result"
    }
   ],
   "source": [
    "os.listdir(os.path.join(main_folder,\"gen01_red-blue\"))[0] # this grabs first file from directory listed"
   ]
  },
  {
   "cell_type": "code",
   "execution_count": 140,
   "metadata": {},
   "outputs": [
    {
     "data": {
      "image/png": "[encoded data removed]",
      "text/plain": [
       "<matplotlib.figure.Figure at 0xa21d978>"
      ]
     },
     "metadata": {},
     "output_type": "display_data"
    }
   ],
   "source": [
    "main_folder = \"sprites/pokemon/main-sprites/main-sprites/\"\n",
    "i = 0\n",
    "plt.figure(figsize=(14,4))\n",
    "for folders in os.listdir(main_folder):  \n",
    "    first_img = os.listdir(os.path.join(main_folder, folders))[0]\n",
    "    img = mpimg.imread(os.path.join(main_folder, folders, first_img))\n",
    "    plt.subplot(2,7,i+1)\n",
    "    plt.imshow(img)\n",
    "    i += 1\n",
    "\n",
    "plt.show()"
   ]
  },
  {
   "cell_type": "markdown",
   "metadata": {},
   "source": [
    "# Data Preparation"
   ]
  },
  {
   "cell_type": "code",
   "execution_count": 136,
   "metadata": {
    "collapsed": true
   },
   "outputs": [],
   "source": [
    "from skimage import color, filters, measure, morphology, transform\n",
    "\n",
    "from scipy import ndimage\n",
    "\n",
    "from math import ceil, floor\n",
    "\n",
    "from functools import reduce\n",
    "\n",
    "import matplotlib.image as mpimg\n",
    "import matplotlib.pyplot as plt\n",
    "import matplotlib.patches as patches\n",
    "\n",
    "import os\n",
    "\n",
    "def bbox_reducer(a,b):\n",
    "    \"\"\"Reduces two bounding boxes tuples to a bounding box\n",
    "    encompassing both. The bounding box format expected is\n",
    "    \n",
    "    (min_row, min_col, max_row, max_col)\n",
    "    \n",
    "    Used with the reduce function to merge bounding boxes\n",
    "    \n",
    "    \"\"\"\n",
    "    min_row = min(a[0],b[0])\n",
    "    min_col = min(a[1],b[1])\n",
    "    max_row = max(a[2],b[2])\n",
    "    max_col = max(a[3],b[3])\n",
    "    return (min_row, min_col, max_row, max_col)\n",
    "\n",
    "def plot_intermediate_steps(arr):\n",
    "    \"\"\"\n",
    "    Plot a sequence of intermediate steps\n",
    "    \"\"\"\n",
    "    n_img = len(arr)\n",
    "    plt.figure(figsize=(16,24))\n",
    "    \n",
    "    for idx, item in enumerate(arr):\n",
    "        image, cmap, box = item\n",
    "        ax = plt.subplot(1,n_img,idx+1)\n",
    "        plt.imshow(image,cmap)\n",
    "        if box:\n",
    "            ax.add_patch(box)\n",
    "    plt.show()\n",
    "    \n",
    "def center_and_resize(image,new_size = (64,64),plot=False,square=True, id = None):\n",
    "    #Criando as máscaras que representam os objetos\n",
    "    image_bw = color.rgb2gray(image)\n",
    "    image_countour = filters.sobel(image_bw)\n",
    "    image_filled = ndimage.binary_fill_holes(image_countour)\n",
    "    \n",
    "    image_mask = morphology.convex_hull_image(image_filled)\n",
    "    \n",
    "    #Identificando os objetos na imagem\n",
    "    labels, n_objects = ndimage.label(image_mask)\n",
    "    regions = measure.regionprops(labels)\n",
    "    slices = ndimage.find_objects(labels)\n",
    "\n",
    "    #Getting Bounding box that encompasses all regions\n",
    "    bbox_list = [r.bbox for r in regions]\n",
    "    min_row, min_col, max_row, max_col = reduce(bbox_reducer,bbox_list)\n",
    "    \n",
    "    #If the bounding box is not squared, make it so\n",
    "    if square:\n",
    "        len_row = max_row - min_row\n",
    "        len_col = max_col - min_col\n",
    "\n",
    "        if len_row > len_col:\n",
    "            min_col -= ceil((len_row - len_col)/2)\n",
    "            max_col += floor((len_row - len_col)/2)\n",
    "        else:\n",
    "            min_row -= ceil((len_col - len_row)/2)\n",
    "            max_row += floor((len_col - len_row)/2)      \n",
    "    \n",
    "\n",
    "    #We may have some out of bound stuff hapenning here\n",
    "    if (max_row - min_row) > image.shape[0]:\n",
    "        raise ValueError(\"ID = {id} - Bounding box height is greater than image height\".format(id=id))\n",
    "    if (max_col - min_col) > image.shape[1]:\n",
    "        raise ValueError(\"ID = {id} - Bounding box width is greater than image width\".format(id=id))\n",
    "        \n",
    "    #If Bounding box exceeds image limits, we shift it inside\n",
    "    if min_row < 0:\n",
    "        max_row += abs(min_row)\n",
    "        min_row = 0\n",
    "    if min_col < 0:\n",
    "        max_col += abs(min_col)\n",
    "        min_col = 0\n",
    "    if max_row >= image.shape[1]:\n",
    "        min_row -= max_row - image.shape[1] + 1\n",
    "        max_row = image.shape[0]-1\n",
    "    if max_col >= image.shape[1]:\n",
    "        min_col -= max_col - image.shape[1] + 1\n",
    "        max_col = image.shape[1]-1    \n",
    "    \n",
    "    image_slice = (\n",
    "        slice(min_row,max_row,None) ,\n",
    "        slice(min_col,max_col,None)               \n",
    "    )\n",
    "    \n",
    "    image_bounded = image[image_slice]\n",
    "    \n",
    "    image_resize = transform.resize(image_bounded,new_size)\n",
    "    \n",
    "    if plot:\n",
    "        image_box = patches.Rectangle(\n",
    "            (min_col,min_row),\n",
    "            max_row - min_row,  \n",
    "            max_col - min_col,  \n",
    "            fc = \"none\",\n",
    "            ec = \"red\"\n",
    "        )\n",
    "        img_arr = [\n",
    "            (image,None,None),\n",
    "            (image_bw,\"gray\",None),\n",
    "            (image_countour,\"gray\",None),\n",
    "            (image_filled,\"gray\",None),\n",
    "            (image_mask,\"gray\",None),\n",
    "            (image,None,image_box),\n",
    "            (image_resize,None,None)\n",
    "        ]\n",
    "        plot_intermediate_steps(img_arr)\n",
    "    \n",
    "    return image_resize    "
   ]
  },
  {
   "cell_type": "code",
   "execution_count": 176,
   "metadata": {},
   "outputs": [
    {
     "name": "stderr",
     "output_type": "stream",
     "text": [
      "C:\\ProgramData\\Anaconda2\\lib\\site-packages\\ipykernel_launcher.py:100: VisibleDeprecationWarning: using a non-integer number instead of an integer will result in an error in the future\n"
     ]
    }
   ],
   "source": [
    "from math import ceil\n",
    "from IPython.display import display\n",
    "\n",
    "image_list = []\n",
    "\n",
    "for path, subdirs, files in os.walk(main_folder):\n",
    "    for filename in files:\n",
    "        f = os.path.join(path, filename)\n",
    "        image = mpimg.imread(f)\n",
    "        image_resize = center_and_resize(image,plot=False,id=f)\n",
    "        image_list.append((image,image_resize))\n",
    "\n",
    "# n_cols = 6\n",
    "# n_rows = ceil(2*len(image_list)/n_cols)\n",
    "# plt.figure(figsize=(16,256))\n",
    "# for idx, image_pair in enumerate(image_list):\n",
    "#     image, image_resize = image_pair\n",
    "#     plt.subplot(100,6,2*idx+1)\n",
    "#     plt.imshow(image)\n",
    "#     plt.subplot(100,6,2*idx+2)\n",
    "#     plt.imshow(image_resize)        "
   ]
  },
  {
   "cell_type": "code",
   "execution_count": 171,
   "metadata": {},
   "outputs": [
    {
     "name": "stdout",
     "output_type": "stream",
     "text": [
      "('Starting', 'gen03_firered-leafgreen')\n"
     ]
    },
    {
     "name": "stderr",
     "output_type": "stream",
     "text": [
      "C:\\ProgramData\\Anaconda2\\lib\\site-packages\\ipykernel_launcher.py:100: VisibleDeprecationWarning: using a non-integer number instead of an integer will result in an error in the future\n"
     ]
    },
    {
     "name": "stdout",
     "output_type": "stream",
     "text": [
      "('Starting', 'gen01_red-green')\n",
      "('Starting', 'gen03_emerald')\n",
      "('Starting', 'gen05_black-white')\n"
     ]
    },
    {
     "ename": "NameError",
     "evalue": "name 'FileNotFoundError' is not defined",
     "output_type": "error",
     "traceback": [
      "\u001b[0;31m\u001b[0m",
      "\u001b[0;31mNameError\u001b[0mTraceback (most recent call last)",
      "\u001b[0;32m<ipython-input-171-d53b510ea7d0>\u001b[0m in \u001b[0;36m<module>\u001b[0;34m()\u001b[0m\n\u001b[1;32m     43\u001b[0m                 \u001b[0mwarnings\u001b[0m\u001b[1;33m.\u001b[0m\u001b[0msimplefilter\u001b[0m\u001b[1;33m(\u001b[0m\u001b[1;34m\"ignore\"\u001b[0m\u001b[1;33m)\u001b[0m\u001b[1;33m\u001b[0m\u001b[0m\n\u001b[1;32m     44\u001b[0m                 \u001b[0mio\u001b[0m\u001b[1;33m.\u001b[0m\u001b[0mimsave\u001b[0m\u001b[1;33m(\u001b[0m\u001b[0mnew_image_path\u001b[0m\u001b[1;33m,\u001b[0m\u001b[0mnew_image\u001b[0m\u001b[1;33m)\u001b[0m\u001b[1;33m\u001b[0m\u001b[0m\n\u001b[0;32m---> 45\u001b[0;31m         \u001b[1;32mexcept\u001b[0m \u001b[0mFileNotFoundError\u001b[0m\u001b[1;33m:\u001b[0m\u001b[1;33m\u001b[0m\u001b[0m\n\u001b[0m\u001b[1;32m     46\u001b[0m             \u001b[1;32mprint\u001b[0m\u001b[1;33m(\u001b[0m\u001b[1;34m\" - {file} not found\"\u001b[0m\u001b[1;33m.\u001b[0m\u001b[0mformat\u001b[0m\u001b[1;33m(\u001b[0m\u001b[0mfile\u001b[0m\u001b[1;33m=\u001b[0m\u001b[0mimage_path\u001b[0m\u001b[1;33m)\u001b[0m\u001b[1;33m)\u001b[0m\u001b[1;33m\u001b[0m\u001b[0m\n\u001b[1;32m     47\u001b[0m \u001b[1;32mprint\u001b[0m\u001b[1;33m(\u001b[0m\u001b[1;34m\"Finished\"\u001b[0m\u001b[1;33m)\u001b[0m\u001b[1;33m\u001b[0m\u001b[0m\n",
      "\u001b[0;31mNameError\u001b[0m: name 'FileNotFoundError' is not defined"
     ]
    }
   ],
   "source": [
    "import warnings\n",
    "import os\n",
    "import matplotlib.image as img\n",
    "from skimage import io\n",
    "\n",
    "\n",
    "main_folder = \"./sprites/pokemon/main-sprites/\"\n",
    "dest_folder = \"./sprites/pokemon/centered-sprites/\"\n",
    "\n",
    "if not os.path.exists(dest_folder):\n",
    "    os.makedirs(dest_folder)\n",
    "\n",
    "gen_folders = {    \n",
    "    \"gen01_red-blue\" : 151,\n",
    "    \"gen01_red-green\" : 151,\n",
    "    \"gen01_yellow\" : 151,\n",
    "    \"gen02_crystal\" : 251,\n",
    "    \"gen02_gold\" : 251,\n",
    "    \"gen02_silver\" : 251,\n",
    "    \"gen03_emerald\" : 386,\n",
    "    \"gen03_firered-leafgreen\" : 151,\n",
    "    \"gen03_ruby-sapphire\" : 386,\n",
    "    \"gen04_diamond-pearl\" : 493,\n",
    "    \"gen04_heartgold-soulsilver\" : 386,\n",
    "    \"gen04_platinum\" : 386,\n",
    "    \"gen05_black-white\" : 649\n",
    "}\n",
    "\n",
    "for gen, max_pkm in gen_folders.items():\n",
    "    print(\"Starting\",gen)\n",
    "    main_gen_folder = os.path.join(main_folder,gen)\n",
    "    dest_gen_folder = os.path.join(dest_folder,gen)\n",
    "    if not os.path.exists(dest_gen_folder):\n",
    "        os.makedirs(dest_gen_folder)\n",
    "    for pkm_id in range(1,max_pkm+1):\n",
    "        image_file = \"{id}.png\".format(id=pkm_id)\n",
    "        image_path = os.path.join(main_gen_folder,image_file)        \n",
    "        try:\n",
    "            image = mpimg.imread(image_path)\n",
    "            new_image = center_and_resize(image,plot=False,id=image_path)\n",
    "            new_image_path = os.path.join(dest_gen_folder,image_file)\n",
    "            with warnings.catch_warnings():\n",
    "                warnings.simplefilter(\"ignore\")\n",
    "                io.imsave(new_image_path,new_image)\n",
    "        except FileNotFoundError:\n",
    "            print(\" - {file} not found\".format(file=image_path))\n",
    "print(\"Finished\")\n",
    "    "
   ]
  }
 ],
 "metadata": {
  "kernelspec": {
   "display_name": "Python 2",
   "language": "python",
   "name": "python2"
  },
  "language_info": {
   "codemirror_mode": {
    "name": "ipython",
    "version": 2
   },
   "file_extension": ".py",
   "mimetype": "text/x-python",
   "name": "python",
   "nbconvert_exporter": "python",
   "pygments_lexer": "ipython2",
   "version": "2.7.13"
  }
 },
 "nbformat": 4,
 "nbformat_minor": 1
}
